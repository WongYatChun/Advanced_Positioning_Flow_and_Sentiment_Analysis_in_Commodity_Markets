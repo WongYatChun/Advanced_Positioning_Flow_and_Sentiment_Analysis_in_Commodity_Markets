{
 "cells": [
  {
   "cell_type": "markdown",
   "metadata": {},
   "source": [
    "# Chapter 7: Decomposing Trading Flow and Quantifying Position Dynamics\n"
   ]
  },
  {
   "cell_type": "markdown",
   "metadata": {},
   "source": [
    "\n",
    "Understand the explanatory power that changes in the positioning of individual long and short trader categories have on price\n",
    "\n",
    "- A Shapley–Owen decomposition of the regression of changes in price against changes in positioning.\n",
    "\n",
    "    - provide some indication of which trader groups have been determining prices on a commodity-specific basis over time\n",
    "    \n",
    "    - by extension, can be used to understand the explanatory power that changes in the positioning of individual trader categories have on other trader categories\n",
    "    \n",
    "    - an indication of the trading flows between groups\n",
    "    \n",
    "Provide meaningful insight into potential price change, by factoring into account the trading flows and the price sensitivity  \n",
    "\n",
    "It is also possible to then back-out the possible length of time that specific changes\n",
    "in trader positioning could need to complete. "
   ]
  },
  {
   "cell_type": "markdown",
   "metadata": {},
   "source": [
    "## Decomposing Net Positioning – The Methodology\n"
   ]
  },
  {
   "cell_type": "markdown",
   "metadata": {},
   "source": [
    "### The Shapley-Owen Decompostion"
   ]
  },
  {
   "cell_type": "markdown",
   "metadata": {},
   "source": [
    "## Decomposing Long and Short Positioning - The Methodology\n"
   ]
  },
  {
   "cell_type": "markdown",
   "metadata": {},
   "source": [
    "## Who has been driving the prices"
   ]
  },
  {
   "cell_type": "markdown",
   "metadata": {},
   "source": [
    "### Decomposing positioning in Crude Oil (WTI), Natural Gas, and Corn"
   ]
  },
  {
   "cell_type": "markdown",
   "metadata": {},
   "source": [
    "## Who is Trading with Whom"
   ]
  },
  {
   "cell_type": "markdown",
   "metadata": {},
   "source": [
    "### The Trading Flow"
   ]
  },
  {
   "cell_type": "markdown",
   "metadata": {},
   "source": [
    "## The Impact on Prices"
   ]
  },
  {
   "cell_type": "code",
   "execution_count": null,
   "metadata": {},
   "outputs": [],
   "source": []
  },
  {
   "cell_type": "markdown",
   "metadata": {},
   "source": [
    "## The Speed of Positioning Changes"
   ]
  }
 ],
 "metadata": {
  "kernelspec": {
   "display_name": "Python 3",
   "language": "python",
   "name": "python3"
  },
  "language_info": {
   "codemirror_mode": {
    "name": "ipython",
    "version": 3
   },
   "file_extension": ".py",
   "mimetype": "text/x-python",
   "name": "python",
   "nbconvert_exporter": "python",
   "pygments_lexer": "ipython3",
   "version": "3.7.5"
  },
  "toc": {
   "base_numbering": 1,
   "nav_menu": {},
   "number_sections": true,
   "sideBar": true,
   "skip_h1_title": true,
   "title_cell": "Table of Contents",
   "title_sidebar": "Contents",
   "toc_cell": false,
   "toc_position": {},
   "toc_section_display": true,
   "toc_window_display": true
  }
 },
 "nbformat": 4,
 "nbformat_minor": 4
}
