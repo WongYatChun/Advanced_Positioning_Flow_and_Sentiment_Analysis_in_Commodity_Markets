{
 "cells": [
  {
   "cell_type": "markdown",
   "metadata": {},
   "source": [
    "# Chapter 12: Flow Analysis"
   ]
  },
  {
   "cell_type": "markdown",
   "metadata": {},
   "source": [
    "Introduces the Flow Cube and Build ratio to organise and quantify changes in price,open interest, and volume into a framework to define the type and efficiency of trading activity.\n",
    "\n",
    "- This can be done over any timeframe (daily, weekly, monthly) and for any commodity on an aggregate or individual futures contract basis.\n",
    "\n",
    "- The approach means that the recent trading activity in a commodity, or the trading activity at specific points down its forward curve, can be defined \n",
    "\n",
    "    - in combination with the Build ratio, quantified in terms of its efficiency.\n",
    "\n",
    "- This means that in combination with some knowledge of the type of trading activity down the curve, in terms of speculative or hedging, the efficiency of trading activity can be assessed \n",
    "\n",
    "- and, by extension, the extent of more fuzzy types of trading such as the level of ‘High-Frequency Trading (HFT)’ observed.\n"
   ]
  },
  {
   "cell_type": "markdown",
   "metadata": {},
   "source": [
    "## The Flow Cube\n",
    "\n",
    "### The Relationships Between Changes in Price, Volume, and Open Interest \n",
    "\n",
    "\n",
    "### The Flow Cube Across Commodity Markets\n",
    "\n",
    "\n",
    "### The Build Ratio\n",
    "\n",
    "\n",
    "### The Speculation Ratio\n",
    "\n",
    "\n",
    "### The Build Ratio vs the Speculation Ratio\n",
    "\n",
    "\n",
    "### Relative Speculation Ratios"
   ]
  },
  {
   "cell_type": "markdown",
   "metadata": {},
   "source": [
    "## The Flow Cube down the Forward Curve\n",
    "\n",
    "### The Speculation Ratio down the Forward Curve"
   ]
  },
  {
   "cell_type": "markdown",
   "metadata": {},
   "source": [
    "## The LBMA-i Trade Data"
   ]
  },
  {
   "cell_type": "code",
   "execution_count": null,
   "metadata": {},
   "outputs": [],
   "source": []
  }
 ],
 "metadata": {
  "kernelspec": {
   "display_name": "Python 3",
   "language": "python",
   "name": "python3"
  },
  "language_info": {
   "codemirror_mode": {
    "name": "ipython",
    "version": 3
   },
   "file_extension": ".py",
   "mimetype": "text/x-python",
   "name": "python",
   "nbconvert_exporter": "python",
   "pygments_lexer": "ipython3",
   "version": "3.7.5"
  },
  "toc": {
   "base_numbering": 1,
   "nav_menu": {},
   "number_sections": true,
   "sideBar": true,
   "skip_h1_title": true,
   "title_cell": "Table of Contents",
   "title_sidebar": "Contents",
   "toc_cell": false,
   "toc_position": {
    "height": "calc(100% - 180px)",
    "left": "10px",
    "top": "150px",
    "width": "192px"
   },
   "toc_section_display": true,
   "toc_window_display": true
  }
 },
 "nbformat": 4,
 "nbformat_minor": 4
}
