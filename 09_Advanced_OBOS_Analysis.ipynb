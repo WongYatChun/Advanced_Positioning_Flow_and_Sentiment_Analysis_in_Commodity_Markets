{
 "cells": [
  {
   "cell_type": "markdown",
   "id": "a14e9bb3",
   "metadata": {},
   "source": [
    "# Chapter 9: Advanced OBOS Analysis\n",
    "\n",
    "The OBOS framework is extended to \n",
    "\n",
    "- include different positioning metrics such as Clustering and Position Size \n",
    "\n",
    "- make use of a broader set of variables within the framework, like the VIX, Financial Conditions Indices (FCIs), and the dollar index (DXY)\n",
    "\n",
    "The use of Positioning Analysis in the risk management of commodity risk premia strategies is also covered.\n"
   ]
  },
  {
   "cell_type": "markdown",
   "id": "38952db6",
   "metadata": {},
   "source": [
    "## The OBOS Framework – Clustering and Position Sizes\n"
   ]
  },
  {
   "cell_type": "markdown",
   "id": "1bd837e0",
   "metadata": {},
   "source": [
    "### OBOS Clustering Indicator\n"
   ]
  },
  {
   "cell_type": "markdown",
   "id": "50bcbf27",
   "metadata": {},
   "source": [
    "#### When Only Concentration is Extreme"
   ]
  },
  {
   "cell_type": "markdown",
   "id": "0bbffcf8",
   "metadata": {},
   "source": [
    "#### When Only Clustering is Extreme"
   ]
  },
  {
   "cell_type": "markdown",
   "id": "7c6ea684",
   "metadata": {},
   "source": [
    "#### When Concentration and Clustering are Extreme\n"
   ]
  },
  {
   "cell_type": "markdown",
   "id": "33182efe",
   "metadata": {},
   "source": [
    "#### Disentangling Clustering Dynamics Using DP Analysis and the\n",
    "RSI "
   ]
  },
  {
   "cell_type": "markdown",
   "id": "c546016b",
   "metadata": {},
   "source": [
    "### OBOS Position Size Indicator\n"
   ]
  },
  {
   "cell_type": "markdown",
   "id": "47b5145e",
   "metadata": {},
   "source": [
    "### OBOS Hybrid Indicators\n"
   ]
  },
  {
   "cell_type": "markdown",
   "id": "f0a5583d",
   "metadata": {},
   "source": [
    "#### OBOS Hybrid Concentration/Clustering Indicator"
   ]
  },
  {
   "cell_type": "markdown",
   "id": "f4631165",
   "metadata": {},
   "source": [
    "#### OBOS Hybrid Concentration/Clustering/Position Size Indicator\n"
   ]
  },
  {
   "cell_type": "markdown",
   "id": "4bdad897",
   "metadata": {},
   "source": [
    "## OBOS Factor Indicators"
   ]
  },
  {
   "cell_type": "markdown",
   "id": "b4ee0107",
   "metadata": {},
   "source": [
    "### Aligning the Data Between the Positioning and Factor Components\n"
   ]
  },
  {
   "cell_type": "markdown",
   "id": "ff8b9c0e",
   "metadata": {},
   "source": [
    "### The OBOS Factor Framework Trading Signals\n"
   ]
  },
  {
   "cell_type": "markdown",
   "id": "e0d9b935",
   "metadata": {},
   "source": [
    "### The OBOS VIX and OBOS VVIX Indicators\n"
   ]
  },
  {
   "cell_type": "markdown",
   "id": "52d1745f",
   "metadata": {},
   "source": [
    "### The OBOS FCI Indicators\n"
   ]
  },
  {
   "cell_type": "markdown",
   "id": "52b8e3e2",
   "metadata": {},
   "source": [
    "### Other OBOS Factor Indicators\n"
   ]
  },
  {
   "cell_type": "markdown",
   "id": "129c9040",
   "metadata": {},
   "source": [
    "## Commodity Risk Premia - Positioning Analysis and Risk Management"
   ]
  },
  {
   "cell_type": "markdown",
   "id": "9ffe7a3c",
   "metadata": {},
   "source": [
    "### Risk Premia Performance\n"
   ]
  },
  {
   "cell_type": "markdown",
   "id": "26ea8e2f",
   "metadata": {},
   "source": [
    "### Risk Premia Risk Management\n"
   ]
  },
  {
   "cell_type": "code",
   "execution_count": null,
   "id": "d94158df",
   "metadata": {},
   "outputs": [],
   "source": []
  }
 ],
 "metadata": {
  "kernelspec": {
   "display_name": "Python 3",
   "language": "python",
   "name": "python3"
  },
  "language_info": {
   "codemirror_mode": {
    "name": "ipython",
    "version": 3
   },
   "file_extension": ".py",
   "mimetype": "text/x-python",
   "name": "python",
   "nbconvert_exporter": "python",
   "pygments_lexer": "ipython3",
   "version": "3.7.5"
  },
  "toc": {
   "base_numbering": 1,
   "nav_menu": {},
   "number_sections": true,
   "sideBar": true,
   "skip_h1_title": true,
   "title_cell": "Table of Contents",
   "title_sidebar": "Contents",
   "toc_cell": false,
   "toc_position": {
    "height": "calc(100% - 180px)",
    "left": "10px",
    "top": "150px",
    "width": "192px"
   },
   "toc_section_display": true,
   "toc_window_display": true
  }
 },
 "nbformat": 4,
 "nbformat_minor": 5
}
