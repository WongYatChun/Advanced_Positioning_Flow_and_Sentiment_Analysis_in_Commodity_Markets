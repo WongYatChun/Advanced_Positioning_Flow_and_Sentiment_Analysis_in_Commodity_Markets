{
 "cells": [
  {
   "cell_type": "markdown",
   "metadata": {},
   "source": [
    "# Chapter 2: The structure of the Positioning Data\n",
    "\n",
    "Overview of how positioning data is broken down and attributed between trader categories, integrating both the Legacy and Disaggregated COT reports to show how the different trader categories are related to each other\n",
    "\n",
    "- isolate specific types of flow patterns\n",
    "\n",
    "- quantify shifts in sentiment\n",
    "\n",
    "- define behavioural responses\n",
    "\n",
    "- develop tools for better trading and risk management\n",
    "\n",
    "\n",
    "Show how COT data can be used o understand and evaluate positioning patterns and profiles between the major commodities\n",
    "\n",
    "- which commodiites are the most liquid in terms of the commodities with highest (lowest）open interest and the number of traders in each category\n",
    "\n",
    "    - understand which commodities might be the most or the least vulnerable to shifts in investor sentiment\n",
    "    \n",
    "    - whether more technically driven strategies or a more fundamentally driven approach might perform better\n",
    "    \n",
    "    - identify the most (least) speculatively driven commodities, the commodities with the highest (lowest) implied consumer and producer hedging activity\n",
    "    \n",
    "    "
   ]
  },
  {
   "cell_type": "markdown",
   "metadata": {},
   "source": [
    "## Positioning Data for the London Metal Exchange (LME) – The MiFID Classifications\n"
   ]
  },
  {
   "cell_type": "markdown",
   "metadata": {},
   "source": [
    "## Other Types of Positioning and Flow Data\n"
   ]
  },
  {
   "cell_type": "markdown",
   "metadata": {},
   "source": [
    "**List of the COT symbols used through this book**\n",
    "\n",
    "|Symbol       | Meaning           | \n",
    "| ------------- |:-------------|\n",
    "| C      | Commercials |\n",
    "| NC      | Non-Commercials |\n",
    "| NR      | Non-Reportables |\n",
    "| PMPU      | Producer/Merchant/Processor/User |\n",
    "| MM      | Money Managers |\n",
    "| OR      | Other Reportables |\n",
    "| SD      | Swap Dealers |\n",
    "\n",
    "| Suffix       | Meaning           | \n",
    "| ------------- |:-------------|\n",
    "| L(LT)      | Long Open Interest (Long Number of Traders)|\n",
    "| S(ST)      | Short Open Interest (Short Number of Traders)|\n",
    "| D(DT)      | Spread Open Interest (Spreading Number of Traders)|\n",
    "| TOI      | Total Open Interest |\n",
    "| LPS      | Long Position Size |\n",
    "| SPS      | Short Position Size |\n"
   ]
  },
  {
   "cell_type": "markdown",
   "metadata": {},
   "source": [
    "## The Structure of Commodity Markets\n"
   ]
  },
  {
   "cell_type": "code",
   "execution_count": null,
   "metadata": {},
   "outputs": [],
   "source": []
  }
 ],
 "metadata": {
  "kernelspec": {
   "display_name": "Python 3",
   "language": "python",
   "name": "python3"
  },
  "language_info": {
   "codemirror_mode": {
    "name": "ipython",
    "version": 3
   },
   "file_extension": ".py",
   "mimetype": "text/x-python",
   "name": "python",
   "nbconvert_exporter": "python",
   "pygments_lexer": "ipython3",
   "version": "3.7.5"
  },
  "toc": {
   "base_numbering": 1,
   "nav_menu": {},
   "number_sections": true,
   "sideBar": true,
   "skip_h1_title": true,
   "title_cell": "Table of Contents",
   "title_sidebar": "Contents",
   "toc_cell": false,
   "toc_position": {},
   "toc_section_display": true,
   "toc_window_display": true
  }
 },
 "nbformat": 4,
 "nbformat_minor": 4
}
