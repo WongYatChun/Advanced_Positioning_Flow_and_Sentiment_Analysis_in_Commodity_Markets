{
 "cells": [
  {
   "cell_type": "markdown",
   "metadata": {},
   "source": [
    "# Chapter 11: Newsflow in Positioning Analysis"
   ]
  },
  {
   "cell_type": "markdown",
   "metadata": {},
   "source": [
    "Incorporating commodity newsflow into certain areas of commodity Positioning Analysis.\n",
    "\n",
    "- help to assess and track the current level of interest in positioning data. \n",
    "\n",
    "\n",
    "Like technical analysis, Positioning Analysis carries a\n",
    "degree of self-reinforcement, which can affect prices, shape sentiment, and influence behaviour.\n",
    "\n",
    "- As positioning-related newsflow increases or decreases, the more or the less pronounced these positioning-related effects often become.\n",
    "\n",
    "- When positioning is extreme in a commodity, the absolute level of commodity trading-related newsflow in that commodity, and also the direction of newsflow in terms of whether it is bullish or bearish for prices, can significantly affect behaviour. \n",
    "\n",
    "- A large long or short position and bullish or bearish price-related newsflow respectively suggests the position could become bigger, or, if positioning is already extreme, less vulnerable to liquidation. \n",
    "\n",
    "- Similarly, if newsflow starts to wane, prices could start to become vulnerable as positions are no longer justified and positions begin to unwind.\n",
    "\n",
    "This chapter covers the construction of different types of newsflow indices and ways of including them into Positioning Analysis to refine signals and provide more information.\n"
   ]
  },
  {
   "cell_type": "markdown",
   "metadata": {},
   "source": [
    "## Newsflow Data in Commodity Markets\n",
    "\n",
    "### Commodity Newsflow in Positioning and Sentiment Analysis\n",
    "\n",
    "#### Reasons Why Commodity Positioning Newsflow Could be Rising? \n",
    "\n",
    "\n",
    "\n",
    "\n",
    "## Building Basic Newsflow Indices\n",
    "\n",
    "### Commodity Positioning Newsflow Indices\n",
    "\n",
    "### Commodity Trading Newsflow Indices\n",
    "\n",
    "### Directional Commodity Price Newsflow Indices\n",
    "\n",
    "\n",
    "\n",
    "\n",
    "## Combining Newsflow with Positioning\n",
    "\n",
    "### Integrating Commodity Trading Newsflow into a Classic OBOS Indicator\n",
    "\n",
    "\n",
    "### Integrating Direction Commodity Price Newsflow into a Classic OBOS Framework\n",
    "\n",
    "\n",
    "\n",
    "## Economic Policy Uncertainty\n"
   ]
  },
  {
   "cell_type": "code",
   "execution_count": null,
   "metadata": {},
   "outputs": [],
   "source": []
  }
 ],
 "metadata": {
  "kernelspec": {
   "display_name": "Python 3",
   "language": "python",
   "name": "python3"
  },
  "language_info": {
   "codemirror_mode": {
    "name": "ipython",
    "version": 3
   },
   "file_extension": ".py",
   "mimetype": "text/x-python",
   "name": "python",
   "nbconvert_exporter": "python",
   "pygments_lexer": "ipython3",
   "version": "3.7.5"
  },
  "toc": {
   "base_numbering": 1,
   "nav_menu": {},
   "number_sections": true,
   "sideBar": true,
   "skip_h1_title": true,
   "title_cell": "Table of Contents",
   "title_sidebar": "Contents",
   "toc_cell": false,
   "toc_position": {},
   "toc_section_display": true,
   "toc_window_display": true
  }
 },
 "nbformat": 4,
 "nbformat_minor": 4
}
