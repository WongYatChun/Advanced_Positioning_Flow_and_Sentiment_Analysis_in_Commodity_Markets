{
 "cells": [
  {
   "cell_type": "markdown",
   "metadata": {},
   "source": [
    "# Chapter 10: Sentiment Analysis – Sentiment Indices and Positioning Mismatches\n",
    "\n",
    "Changes in the number of COT long, short, and spreading traders can be a powerful measure of sentiment and an effective way of identifying behavioural patterns in commodities.\n",
    "\n",
    "Sentiment indices based on changes in trader number positioning - a good proxy for sentiment, plus different indicators and indices are developed to track the evolution of market sentiment. \n",
    "\n",
    "Two different indices are developed:\n",
    "\n",
    "- Directional Sentiment (DS) indices, based on the number of long and short traders only; \n",
    "\n",
    "- Non-Directional Sentiment (NDS) indices, based on the number of traders holding a spreading position.\n",
    "\n",
    "\n",
    "These indices can be applied to the whole commodity asset class, to specific commodity sectors, or to individual commodities.\n",
    "\n",
    "\n",
    "The chapter also introduces Mismatch indicators \n",
    "\n",
    "- provide a way of visualising and identifying positioning mismatches.\n",
    "\n",
    "- These occur when the direction in the net number of traders (number of long traders – number of short traders) is different to the direction of their net position (long open interest – short open interest).\n",
    "\n",
    "Mismatches frequently intersect with price inflexion points\n",
    "and can be useful trading signals.\n",
    "\n"
   ]
  },
  {
   "cell_type": "markdown",
   "metadata": {},
   "source": [
    "## The Difference between Trader Numbers and Open Interest"
   ]
  },
  {
   "cell_type": "markdown",
   "metadata": {},
   "source": [
    "## Trader Sentiment (TS) Indices"
   ]
  },
  {
   "cell_type": "markdown",
   "metadata": {},
   "source": [
    "### Non-Directional Sentiment (NDS) Indices\n"
   ]
  },
  {
   "cell_type": "markdown",
   "metadata": {},
   "source": [
    "#### The NDS Construction Methodology\n"
   ]
  },
  {
   "cell_type": "markdown",
   "metadata": {},
   "source": [
    "#### The NDX Index and Crude Oil (WTI) Prices"
   ]
  },
  {
   "cell_type": "markdown",
   "metadata": {},
   "source": [
    "#### The NDX Index and Curve Structure"
   ]
  },
  {
   "cell_type": "markdown",
   "metadata": {},
   "source": [
    "### The DS Construction Methodology"
   ]
  },
  {
   "cell_type": "markdown",
   "metadata": {},
   "source": [
    "#### The DS Construction Methodology\n"
   ]
  },
  {
   "cell_type": "markdown",
   "metadata": {},
   "source": [
    "#### The DS Index Based on Open Interest"
   ]
  },
  {
   "cell_type": "markdown",
   "metadata": {},
   "source": [
    "## Mismatches in Positioning and Price Inflexion Points"
   ]
  },
  {
   "cell_type": "markdown",
   "metadata": {},
   "source": [
    "### Mismatch Indicators\n"
   ]
  },
  {
   "cell_type": "markdown",
   "metadata": {},
   "source": [
    "#### Who Wins?"
   ]
  }
 ],
 "metadata": {
  "kernelspec": {
   "display_name": "Python 3",
   "language": "python",
   "name": "python3"
  },
  "language_info": {
   "codemirror_mode": {
    "name": "ipython",
    "version": 3
   },
   "file_extension": ".py",
   "mimetype": "text/x-python",
   "name": "python",
   "nbconvert_exporter": "python",
   "pygments_lexer": "ipython3",
   "version": "3.7.5"
  },
  "toc": {
   "base_numbering": 1,
   "nav_menu": {},
   "number_sections": true,
   "sideBar": true,
   "skip_h1_title": true,
   "title_cell": "Table of Contents",
   "title_sidebar": "Contents",
   "toc_cell": false,
   "toc_position": {},
   "toc_section_display": true,
   "toc_window_display": true
  }
 },
 "nbformat": 4,
 "nbformat_minor": 4
}
