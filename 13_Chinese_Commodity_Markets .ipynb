{
 "cells": [
  {
   "cell_type": "markdown",
   "metadata": {},
   "source": [
    "# Chapter 13: Chinese Commodity Markets"
   ]
  },
  {
   "cell_type": "markdown",
   "metadata": {},
   "source": [
    "This chapter focuses exclusively on the Chinese commodity futures markets, with the primary objective of\n",
    "\n",
    "- defining, assessing, and tracking the level of trading activity, \n",
    "\n",
    "- and specifically speculative activity, that frequently dominates the newsflow on these exchanges.\n",
    "\n",
    "As there is no equivalent CFTC Commitment of Traders (COT) report for Chinese exchanges, insight on trading activity for these exchanges can be approximated using\n",
    "\n",
    "- the Speculation Ratio (SR) indicator \n",
    "\n",
    "- the Build Ratio (BR) indicator.\n",
    "\n",
    "A new Overbought/Oversold OBOS model for Chinese commodities, based on extremes in price and the SR, is also developed.\n"
   ]
  },
  {
   "cell_type": "markdown",
   "metadata": {},
   "source": [
    "## The Chinese Commodity Exchanges\n",
    "\n",
    "### The Shanghai Futures Exchange (SHFE)\n",
    "\n",
    "#### The Shanghai International Energy Exchange (INE)\n",
    " \n",
    "\n",
    "### The Dalian Commodity Exchange\n",
    "\n",
    "\n",
    "### The Zhengzhou Commodity Exchange"
   ]
  },
  {
   "cell_type": "markdown",
   "metadata": {},
   "source": [
    "## The Size of the Chinese Commodity Exchanges"
   ]
  },
  {
   "cell_type": "markdown",
   "metadata": {},
   "source": [
    "## Speculative vs Hedging Activity in Chinese Commodities"
   ]
  },
  {
   "cell_type": "markdown",
   "metadata": {},
   "source": [
    "## The Flow Cube and Build Ratio in Chinese Commodities"
   ]
  },
  {
   "cell_type": "markdown",
   "metadata": {},
   "source": [
    "## The OBOS Framework and the Speculation Ratio\n",
    "\n",
    "### The OBOS Speculation Ratio Indicator"
   ]
  },
  {
   "cell_type": "code",
   "execution_count": null,
   "metadata": {},
   "outputs": [],
   "source": []
  }
 ],
 "metadata": {
  "kernelspec": {
   "display_name": "Python 3",
   "language": "python",
   "name": "python3"
  },
  "language_info": {
   "codemirror_mode": {
    "name": "ipython",
    "version": 3
   },
   "file_extension": ".py",
   "mimetype": "text/x-python",
   "name": "python",
   "nbconvert_exporter": "python",
   "pygments_lexer": "ipython3",
   "version": "3.7.5"
  },
  "toc": {
   "base_numbering": 1,
   "nav_menu": {},
   "number_sections": true,
   "sideBar": true,
   "skip_h1_title": true,
   "title_cell": "Table of Contents",
   "title_sidebar": "Contents",
   "toc_cell": false,
   "toc_position": {},
   "toc_section_display": true,
   "toc_window_display": true
  }
 },
 "nbformat": 4,
 "nbformat_minor": 4
}
